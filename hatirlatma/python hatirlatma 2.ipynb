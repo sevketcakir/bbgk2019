{
 "cells": [
  {
   "cell_type": "markdown",
   "metadata": {},
   "source": [
    "# Python Hatırlatma 2"
   ]
  },
  {
   "cell_type": "code",
   "execution_count": 8,
   "metadata": {},
   "outputs": [
    {
     "name": "stdout",
     "output_type": "stream",
     "text": [
      "merhaba\n",
      "dünya\n",
      "Bana \"merhaba\" dedi!\n",
      "Bana \"merhaba\" dedi!\n",
      "c:\\users\\pau\n",
      "Çok\n",
      "satırlı\n",
      "metin.\n",
      "Çok\n",
      "satırlı\n",
      "metin\n",
      "3+5=8\n",
      "3+5=8\n"
     ]
    }
   ],
   "source": [
    "print('merhaba')\n",
    "print(\"dünya\")\n",
    "print('Bana \"merhaba\" dedi!')\n",
    "print(\"Bana \\\"merhaba\\\" dedi!\")\n",
    "print(r\"c:\\users\\pau\")\n",
    "print('Çok\\nsatırlı\\nmetin.')\n",
    "print(\"\"\"Çok\n",
    "satırlı\n",
    "metin\"\"\")\n",
    "print(\"3+5={}\".format(3+5))\n",
    "print(f\"3+5={3+5}\")"
   ]
  },
  {
   "cell_type": "code",
   "execution_count": 21,
   "metadata": {},
   "outputs": [
    {
     "name": "stdout",
     "output_type": "stream",
     "text": [
      "abababcd\n",
      "merhaba dünya\n",
      "merhaba dünya\n",
      "r\n",
      "haba\n",
      "!\n",
      "ba dünya!\n",
      "Merhaba dünya!\n"
     ]
    }
   ],
   "source": [
    "print(3*'ab'+'cd')\n",
    "print('merhaba' ' dünya')\n",
    "print('merhaba', 'dünya')\n",
    "s='Merhaba dünya!'\n",
    "print(s[2])\n",
    "print(s[3:7])\n",
    "print(s[-1])\n",
    "print(s[5:])\n",
    "print(s[:])"
   ]
  },
  {
   "cell_type": "markdown",
   "metadata": {},
   "source": [
    "## Stringler"
   ]
  },
  {
   "cell_type": "code",
   "execution_count": 30,
   "metadata": {},
   "outputs": [
    {
     "name": "stdout",
     "output_type": "stream",
     "text": [
      "TÜRKÇE KARAKTER UYUŞMAZLIĞI\n",
      "türkçe karakter uyuşmazliği\n",
      "True\n",
      "Türkçe harf uyuşmazlığı\n",
      "Türkçe karakter uyuşmazlığı\n",
      "['Türkçe', 'karakter', 'uyuşmazlığı']\n",
      "Türkçe- . -karakter- . -uyuşmazlığı\n",
      "3\n",
      "27\n"
     ]
    }
   ],
   "source": [
    "s='Türkçe karakter uyuşmazlığı'\n",
    "print(s.upper())\n",
    "print(s.upper().lower())\n",
    "print(s.startswith('Türkçe'))\n",
    "print(s.replace('karakter', 'harf'))\n",
    "print(s)\n",
    "l=s.split(' ')\n",
    "print(l)\n",
    "print('- . -'.join(l))\n",
    "print(s.count('a'))\n",
    "print(len(s))"
   ]
  },
  {
   "cell_type": "markdown",
   "metadata": {},
   "source": [
    "## Listeler"
   ]
  },
  {
   "cell_type": "code",
   "execution_count": 38,
   "metadata": {},
   "outputs": [
    {
     "name": "stdout",
     "output_type": "stream",
     "text": [
      "['kırmızı', 'yeşil', 'mavi', 'sarı']\n",
      "kırmızı\n",
      "['yeşil', 'mavi']\n",
      "4\n",
      "['mor', 'yeşil', 'mavi', 'sarı']\n",
      "['mavi', 'sarı', 'siyah', 'kırmızı']\n"
     ]
    }
   ],
   "source": [
    "l = ['kırmızı', 'yeşil', 'mavi', 'sarı']\n",
    "print(l)\n",
    "print(l[0])\n",
    "print(l[1:3])\n",
    "print(len(l))\n",
    "l2=l\n",
    "l2[0]='mor'\n",
    "print(l)\n",
    "bos_liste=[]\n",
    "bos_liste=list()\n",
    "l3=['siyah', 'kırmızı']\n",
    "print(l[2:]+l3)"
   ]
  },
  {
   "cell_type": "markdown",
   "metadata": {},
   "source": [
    "## Listelerin döngüde kullanımı"
   ]
  },
  {
   "cell_type": "code",
   "execution_count": 41,
   "metadata": {},
   "outputs": [
    {
     "name": "stdout",
     "output_type": "stream",
     "text": [
      "mavi\n",
      "sarı\n",
      "siyah\n",
      "kırmızı\n",
      "True\n",
      "False\n"
     ]
    }
   ],
   "source": [
    "renkler=l[2:]+l3\n",
    "for renk in renkler:\n",
    "    print(renk)\n",
    "print('sarı' in renkler)\n",
    "print('mor' in renkler)"
   ]
  },
  {
   "cell_type": "markdown",
   "metadata": {},
   "source": [
    "## Liste metotları"
   ]
  },
  {
   "cell_type": "code",
   "execution_count": 44,
   "metadata": {},
   "outputs": [
    {
     "name": "stdout",
     "output_type": "stream",
     "text": [
      "['Ali', 'Ahmet', 'Mehmet']\n",
      "['Ali', 'Ahmet', 'Mehmet', 'Burak']\n",
      "['Ayşe', 'Ali', 'Ahmet', 'Mehmet', 'Burak']\n",
      "['Ayşe', 'Ali', 'Ahmet', 'Mehmet', 'Burak', 'Fatma', 'Hasan']\n",
      "2\n",
      "['Ayşe', 'Ali', 'Ahmet', 'Mehmet', 'Fatma', 'Hasan']\n",
      "['Ayşe', 'Ahmet', 'Mehmet', 'Fatma', 'Hasan']\n",
      "['Ahmet', 'Ayşe', 'Fatma', 'Hasan', 'Mehmet']\n",
      "['Ayşe', 'Ahmet', 'Mehmet', 'Fatma', 'Hasan']\n",
      "['Ahmet', 'Ayşe', 'Fatma', 'Hasan', 'Mehmet']\n"
     ]
    }
   ],
   "source": [
    "liste = ['Ali', 'Ahmet', 'Mehmet']\n",
    "print(liste)\n",
    "liste.append('Burak')\n",
    "print(liste)\n",
    "liste.insert(0,'Ayşe')\n",
    "print(liste)\n",
    "liste.extend(['Fatma','Hasan'])\n",
    "print(liste)\n",
    "print(liste.index('Ahmet'))\n",
    "liste.remove('Burak')\n",
    "print(liste)\n",
    "liste.pop(1)\n",
    "print(liste)\n",
    "print(sorted(liste))\n",
    "print(liste)\n",
    "liste.sort()\n",
    "print(liste)"
   ]
  },
  {
   "cell_type": "markdown",
   "metadata": {},
   "source": [
    "## Tuple Yapısı"
   ]
  },
  {
   "cell_type": "code",
   "execution_count": 46,
   "metadata": {},
   "outputs": [
    {
     "name": "stdout",
     "output_type": "stream",
     "text": [
      "1\n",
      "3.14\n",
      "merhaba\n",
      "3.14\n"
     ]
    },
    {
     "ename": "TypeError",
     "evalue": "'tuple' object does not support item assignment",
     "output_type": "error",
     "traceback": [
      "\u001b[0;31m---------------------------------------------------------------------------\u001b[0m",
      "\u001b[0;31mTypeError\u001b[0m                                 Traceback (most recent call last)",
      "\u001b[0;32m<ipython-input-46-cf6db9e32db8>\u001b[0m in \u001b[0;36m<module>\u001b[0;34m\u001b[0m\n\u001b[1;32m      3\u001b[0m     \u001b[0mprint\u001b[0m\u001b[0;34m(\u001b[0m\u001b[0mel\u001b[0m\u001b[0;34m)\u001b[0m\u001b[0;34m\u001b[0m\u001b[0;34m\u001b[0m\u001b[0m\n\u001b[1;32m      4\u001b[0m \u001b[0mprint\u001b[0m\u001b[0;34m(\u001b[0m\u001b[0mcu\u001b[0m\u001b[0;34m[\u001b[0m\u001b[0;36m1\u001b[0m\u001b[0;34m]\u001b[0m\u001b[0;34m)\u001b[0m\u001b[0;34m\u001b[0m\u001b[0;34m\u001b[0m\u001b[0m\n\u001b[0;32m----> 5\u001b[0;31m \u001b[0mcu\u001b[0m\u001b[0;34m[\u001b[0m\u001b[0;36m1\u001b[0m\u001b[0;34m]\u001b[0m\u001b[0;34m=\u001b[0m\u001b[0;34m'deneme'\u001b[0m\u001b[0;34m\u001b[0m\u001b[0;34m\u001b[0m\u001b[0m\n\u001b[0m",
      "\u001b[0;31mTypeError\u001b[0m: 'tuple' object does not support item assignment"
     ]
    }
   ],
   "source": [
    "cu = (1, 3.14, 'merhaba')\n",
    "for el in cu:\n",
    "    print(el)\n",
    "print(cu[1])\n",
    "cu[1]='deneme'"
   ]
  },
  {
   "cell_type": "markdown",
   "metadata": {},
   "source": [
    "## Sözlükler"
   ]
  },
  {
   "cell_type": "code",
   "execution_count": 51,
   "metadata": {},
   "outputs": [
    {
     "name": "stdout",
     "output_type": "stream",
     "text": [
      "{'a': 'alpha', 'b': 'beta', 'g': 'gamma'}\n",
      "a => alpha\n",
      "b => beta\n",
      "g => gamma\n",
      "a => alpha\n",
      "b => beta\n",
      "g => gamma\n",
      "{'b': 'beta', 'g': 'gamma'}\n"
     ]
    }
   ],
   "source": [
    "sozluk = {'a': 'alpha', 'b': 'beta','g': 'gamma'}\n",
    "print(sozluk)\n",
    "sozluk=dict()\n",
    "sozluk['a']='alpha'\n",
    "sozluk['b']='beta'\n",
    "sozluk['g']='gamma'\n",
    "\n",
    "for anahtar in sozluk:\n",
    "    print(f\"{anahtar} => {sozluk[anahtar]}\")\n",
    "    \n",
    "for anahtar, deger in sozluk.items():\n",
    "    print(f\"{anahtar} => {deger}\")\n",
    "\n",
    "del sozluk['a']\n",
    "print(sozluk)    "
   ]
  }
 ],
 "metadata": {
  "kernelspec": {
   "display_name": "Python 3",
   "language": "python",
   "name": "python3"
  },
  "language_info": {
   "codemirror_mode": {
    "name": "ipython",
    "version": 3
   },
   "file_extension": ".py",
   "mimetype": "text/x-python",
   "name": "python",
   "nbconvert_exporter": "python",
   "pygments_lexer": "ipython3",
   "version": "3.7.3"
  }
 },
 "nbformat": 4,
 "nbformat_minor": 2
}
