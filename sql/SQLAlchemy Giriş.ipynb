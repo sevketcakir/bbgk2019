{
 "cells": [
  {
   "cell_type": "code",
   "execution_count": 1,
   "metadata": {},
   "outputs": [
    {
     "data": {
      "text/plain": [
       "'1.3.11'"
      ]
     },
     "execution_count": 1,
     "metadata": {},
     "output_type": "execute_result"
    }
   ],
   "source": [
    "import sqlalchemy\n",
    "sqlalchemy.__version__"
   ]
  },
  {
   "cell_type": "code",
   "execution_count": 2,
   "metadata": {},
   "outputs": [
    {
     "name": "stdout",
     "output_type": "stream",
     "text": [
      "2019-11-29 16:03:24,568 INFO sqlalchemy.engine.base.Engine SELECT CAST('test plain returns' AS VARCHAR(60)) AS anon_1\n",
      "2019-11-29 16:03:24,571 INFO sqlalchemy.engine.base.Engine ()\n",
      "2019-11-29 16:03:24,572 INFO sqlalchemy.engine.base.Engine SELECT CAST('test unicode returns' AS VARCHAR(60)) AS anon_1\n",
      "2019-11-29 16:03:24,572 INFO sqlalchemy.engine.base.Engine ()\n"
     ]
    },
    {
     "data": {
      "text/plain": [
       "<sqlalchemy.engine.base.Connection at 0x5465b50>"
      ]
     },
     "execution_count": 2,
     "metadata": {},
     "output_type": "execute_result"
    }
   ],
   "source": [
    "from sqlalchemy import create_engine\n",
    "engine = create_engine('sqlite:///veritabani.db', echo=True)\n",
    "engine.connect()"
   ]
  },
  {
   "cell_type": "code",
   "execution_count": 3,
   "metadata": {},
   "outputs": [],
   "source": [
    "from sqlalchemy.ext.declarative import declarative_base\n",
    "Base = declarative_base()"
   ]
  },
  {
   "cell_type": "code",
   "execution_count": 4,
   "metadata": {},
   "outputs": [],
   "source": [
    "from sqlalchemy import Column, Integer, String\n",
    "class User(Base):\n",
    "    __tablename__ = \"users\"\n",
    "    \n",
    "    id = Column(Integer, primary_key=True)\n",
    "    name = Column(String)\n",
    "    fullname = Column(String)\n",
    "    nickname = Column(String)\n",
    "    \n",
    "    def __repr__(self):\n",
    "        return f\"<User(name={self.name}, fullname={self.fullname}, nickname={self.nickname})>\""
   ]
  },
  {
   "cell_type": "code",
   "execution_count": 5,
   "metadata": {},
   "outputs": [],
   "source": [
    "usr=User(name=\"Şevket\", fullname=\"Şevket Çakır\")"
   ]
  },
  {
   "cell_type": "code",
   "execution_count": 6,
   "metadata": {},
   "outputs": [
    {
     "data": {
      "text/plain": [
       "<User(name=Şevket, fullname=Şevket Çakır, nickname=None)>"
      ]
     },
     "execution_count": 6,
     "metadata": {},
     "output_type": "execute_result"
    }
   ],
   "source": [
    "usr"
   ]
  },
  {
   "cell_type": "code",
   "execution_count": 7,
   "metadata": {},
   "outputs": [],
   "source": [
    "usr.id"
   ]
  },
  {
   "cell_type": "code",
   "execution_count": 8,
   "metadata": {},
   "outputs": [
    {
     "name": "stdout",
     "output_type": "stream",
     "text": [
      "2019-11-29 16:03:24,810 INFO sqlalchemy.engine.base.Engine PRAGMA main.table_info(\"users\")\n",
      "2019-11-29 16:03:24,811 INFO sqlalchemy.engine.base.Engine ()\n",
      "2019-11-29 16:03:24,812 INFO sqlalchemy.engine.base.Engine PRAGMA temp.table_info(\"users\")\n",
      "2019-11-29 16:03:24,812 INFO sqlalchemy.engine.base.Engine ()\n",
      "2019-11-29 16:03:24,814 INFO sqlalchemy.engine.base.Engine \n",
      "CREATE TABLE users (\n",
      "\tid INTEGER NOT NULL, \n",
      "\tname VARCHAR, \n",
      "\tfullname VARCHAR, \n",
      "\tnickname VARCHAR, \n",
      "\tPRIMARY KEY (id)\n",
      ")\n",
      "\n",
      "\n",
      "2019-11-29 16:03:24,815 INFO sqlalchemy.engine.base.Engine ()\n",
      "2019-11-29 16:03:24,883 INFO sqlalchemy.engine.base.Engine COMMIT\n"
     ]
    }
   ],
   "source": [
    "Base.metadata.create_all(engine)"
   ]
  },
  {
   "cell_type": "code",
   "execution_count": 9,
   "metadata": {},
   "outputs": [],
   "source": [
    "# Oturum sınıfı oluşturma\n",
    "from sqlalchemy.orm import sessionmaker\n",
    "Session = sessionmaker(bind=engine)\n",
    "session = Session()"
   ]
  },
  {
   "cell_type": "code",
   "execution_count": 10,
   "metadata": {},
   "outputs": [],
   "source": [
    "session.add(usr)"
   ]
  },
  {
   "cell_type": "code",
   "execution_count": 11,
   "metadata": {},
   "outputs": [
    {
     "name": "stdout",
     "output_type": "stream",
     "text": [
      "2019-11-29 16:03:24,965 INFO sqlalchemy.engine.base.Engine BEGIN (implicit)\n",
      "2019-11-29 16:03:24,967 INFO sqlalchemy.engine.base.Engine INSERT INTO users (name, fullname, nickname) VALUES (?, ?, ?)\n",
      "2019-11-29 16:03:24,968 INFO sqlalchemy.engine.base.Engine ('Şevket', 'Şevket Çakır', None)\n",
      "2019-11-29 16:03:24,970 INFO sqlalchemy.engine.base.Engine COMMIT\n"
     ]
    }
   ],
   "source": [
    "session.commit()"
   ]
  },
  {
   "cell_type": "code",
   "execution_count": 12,
   "metadata": {},
   "outputs": [
    {
     "name": "stdout",
     "output_type": "stream",
     "text": [
      "2019-11-29 16:03:25,045 INFO sqlalchemy.engine.base.Engine BEGIN (implicit)\n",
      "2019-11-29 16:03:25,046 INFO sqlalchemy.engine.base.Engine INSERT INTO users (name, fullname, nickname) VALUES (?, ?, ?)\n",
      "2019-11-29 16:03:25,047 INFO sqlalchemy.engine.base.Engine (None, 'Cemal Furkan Artan', None)\n",
      "2019-11-29 16:03:25,049 INFO sqlalchemy.engine.base.Engine INSERT INTO users (name, fullname, nickname) VALUES (?, ?, ?)\n",
      "2019-11-29 16:03:25,050 INFO sqlalchemy.engine.base.Engine (None, 'Merve Arslan', None)\n",
      "2019-11-29 16:03:25,051 INFO sqlalchemy.engine.base.Engine INSERT INTO users (name, fullname, nickname) VALUES (?, ?, ?)\n",
      "2019-11-29 16:03:25,052 INFO sqlalchemy.engine.base.Engine (None, 'Eda Çeltük', None)\n",
      "2019-11-29 16:03:25,054 INFO sqlalchemy.engine.base.Engine INSERT INTO users (name, fullname, nickname) VALUES (?, ?, ?)\n",
      "2019-11-29 16:03:25,054 INFO sqlalchemy.engine.base.Engine (None, 'Emre Özdemir', None)\n",
      "2019-11-29 16:03:25,055 INFO sqlalchemy.engine.base.Engine COMMIT\n"
     ]
    }
   ],
   "source": [
    "usr2 = User(fullname=\"Cemal Furkan Artan\")\n",
    "usr3 = User(fullname=\"Merve Arslan\")\n",
    "usr4 = User(fullname=\"Eda Çeltük\")\n",
    "usr5 = User(fullname=\"Emre Özdemir\")\n",
    "users = [usr2, usr3, usr4, usr5]\n",
    "session.add_all(users)\n",
    "session.commit()"
   ]
  },
  {
   "cell_type": "code",
   "execution_count": 13,
   "metadata": {},
   "outputs": [
    {
     "name": "stdout",
     "output_type": "stream",
     "text": [
      "2019-11-29 16:03:25,100 INFO sqlalchemy.engine.base.Engine BEGIN (implicit)\n",
      "2019-11-29 16:03:25,102 INFO sqlalchemy.engine.base.Engine SELECT users.id AS users_id, users.name AS users_name, users.fullname AS users_fullname, users.nickname AS users_nickname \n",
      "FROM users ORDER BY users.name\n",
      "2019-11-29 16:03:25,103 INFO sqlalchemy.engine.base.Engine ()\n",
      "None Cemal Furkan Artan\n",
      "None Merve Arslan\n",
      "None Eda Çeltük\n",
      "None Emre Özdemir\n",
      "Şevket Şevket Çakır\n"
     ]
    }
   ],
   "source": [
    "for user in session.query(User).order_by(User.name):\n",
    "    print(user.name, user.fullname)"
   ]
  },
  {
   "cell_type": "code",
   "execution_count": 14,
   "metadata": {},
   "outputs": [
    {
     "name": "stdout",
     "output_type": "stream",
     "text": [
      "2019-11-29 16:03:25,139 INFO sqlalchemy.engine.base.Engine SELECT users.name AS users_name, users.fullname AS users_fullname \n",
      "FROM users\n",
      "2019-11-29 16:03:25,140 INFO sqlalchemy.engine.base.Engine ()\n",
      "Şevket Şevket Çakır\n",
      "None Cemal Furkan Artan\n",
      "None Merve Arslan\n",
      "None Eda Çeltük\n",
      "None Emre Özdemir\n"
     ]
    }
   ],
   "source": [
    "for name, fullname in session.query(User.name, User.fullname):\n",
    "    print(name, fullname)"
   ]
  },
  {
   "cell_type": "code",
   "execution_count": 15,
   "metadata": {},
   "outputs": [
    {
     "name": "stdout",
     "output_type": "stream",
     "text": [
      "2019-11-29 16:03:25,177 INFO sqlalchemy.engine.base.Engine SELECT users.name AS name_label \n",
      "FROM users\n",
      "2019-11-29 16:03:25,178 INFO sqlalchemy.engine.base.Engine ()\n",
      "Şevket\n",
      "None\n",
      "None\n",
      "None\n",
      "None\n"
     ]
    }
   ],
   "source": [
    "for row in session.query(User.name.label('name_label')).all():\n",
    "    print(row.name_label)"
   ]
  },
  {
   "cell_type": "code",
   "execution_count": 16,
   "metadata": {},
   "outputs": [
    {
     "name": "stdout",
     "output_type": "stream",
     "text": [
      "2019-11-29 16:03:25,214 INFO sqlalchemy.engine.base.Engine SELECT users.id AS users_id, users.name AS users_name, users.fullname AS users_fullname, users.nickname AS users_nickname \n",
      "FROM users ORDER BY users.name\n",
      " LIMIT ? OFFSET ?\n",
      "2019-11-29 16:03:25,215 INFO sqlalchemy.engine.base.Engine (2, 1)\n",
      "<User(name=None, fullname=Merve Arslan, nickname=None)>\n",
      "<User(name=None, fullname=Eda Çeltük, nickname=None)>\n"
     ]
    }
   ],
   "source": [
    "#2. ve 3. kaydı alma\n",
    "for user in session.query(User).order_by(User.name)[1:3]:\n",
    "    print(user)"
   ]
  },
  {
   "cell_type": "code",
   "execution_count": 17,
   "metadata": {},
   "outputs": [
    {
     "name": "stdout",
     "output_type": "stream",
     "text": [
      "2019-11-29 16:03:25,258 INFO sqlalchemy.engine.base.Engine SELECT users.id AS users_id, users.name AS users_name, users.fullname AS users_fullname, users.nickname AS users_nickname \n",
      "FROM users \n",
      "WHERE users.fullname LIKE ?\n",
      "2019-11-29 16:03:25,259 INFO sqlalchemy.engine.base.Engine ('%a%',)\n",
      "<User(name=Şevket, fullname=Şevket Çakır, nickname=None)>\n",
      "<User(name=None, fullname=Cemal Furkan Artan, nickname=None)>\n",
      "<User(name=None, fullname=Merve Arslan, nickname=None)>\n",
      "<User(name=None, fullname=Eda Çeltük, nickname=None)>\n"
     ]
    }
   ],
   "source": [
    "for user in session.query(User).filter(User.fullname.like('%a%')):\n",
    "    print(user)"
   ]
  },
  {
   "cell_type": "code",
   "execution_count": 18,
   "metadata": {},
   "outputs": [],
   "source": [
    "from sqlalchemy.orm import relationship\n",
    "from sqlalchemy import ForeignKey\n",
    "class Parent(Base):\n",
    "    __tablename__ = 'parent'\n",
    "    id = Column(Integer, primary_key=True)\n",
    "    children = relationship(\"Child\", back_populates=\"parent\")\n",
    "\n",
    "class Child(Base):\n",
    "    __tablename__ = 'child'\n",
    "    id = Column(Integer, primary_key=True)\n",
    "    parent_id = Column(Integer, ForeignKey('parent.id'))\n",
    "    parent = relationship(\"Parent\", back_populates=\"children\")"
   ]
  },
  {
   "cell_type": "code",
   "execution_count": 19,
   "metadata": {},
   "outputs": [
    {
     "name": "stdout",
     "output_type": "stream",
     "text": [
      "2019-11-29 16:03:25,347 INFO sqlalchemy.engine.base.Engine PRAGMA main.table_info(\"users\")\n",
      "2019-11-29 16:03:25,348 INFO sqlalchemy.engine.base.Engine ()\n",
      "2019-11-29 16:03:25,349 INFO sqlalchemy.engine.base.Engine PRAGMA main.table_info(\"parent\")\n",
      "2019-11-29 16:03:25,350 INFO sqlalchemy.engine.base.Engine ()\n",
      "2019-11-29 16:03:25,350 INFO sqlalchemy.engine.base.Engine PRAGMA temp.table_info(\"parent\")\n",
      "2019-11-29 16:03:25,351 INFO sqlalchemy.engine.base.Engine ()\n",
      "2019-11-29 16:03:25,351 INFO sqlalchemy.engine.base.Engine PRAGMA main.table_info(\"child\")\n",
      "2019-11-29 16:03:25,352 INFO sqlalchemy.engine.base.Engine ()\n",
      "2019-11-29 16:03:25,352 INFO sqlalchemy.engine.base.Engine PRAGMA temp.table_info(\"child\")\n",
      "2019-11-29 16:03:25,353 INFO sqlalchemy.engine.base.Engine ()\n",
      "2019-11-29 16:03:25,354 INFO sqlalchemy.engine.base.Engine \n",
      "CREATE TABLE parent (\n",
      "\tid INTEGER NOT NULL, \n",
      "\tPRIMARY KEY (id)\n",
      ")\n",
      "\n",
      "\n",
      "2019-11-29 16:03:25,355 INFO sqlalchemy.engine.base.Engine ()\n",
      "2019-11-29 16:03:25,395 INFO sqlalchemy.engine.base.Engine COMMIT\n",
      "2019-11-29 16:03:25,397 INFO sqlalchemy.engine.base.Engine \n",
      "CREATE TABLE child (\n",
      "\tid INTEGER NOT NULL, \n",
      "\tparent_id INTEGER, \n",
      "\tPRIMARY KEY (id), \n",
      "\tFOREIGN KEY(parent_id) REFERENCES parent (id)\n",
      ")\n",
      "\n",
      "\n",
      "2019-11-29 16:03:25,397 INFO sqlalchemy.engine.base.Engine ()\n",
      "2019-11-29 16:03:25,440 INFO sqlalchemy.engine.base.Engine COMMIT\n"
     ]
    }
   ],
   "source": [
    "Base.metadata.create_all(engine)"
   ]
  },
  {
   "cell_type": "code",
   "execution_count": 20,
   "metadata": {},
   "outputs": [],
   "source": [
    "p=Parent()\n",
    "c=Child()"
   ]
  },
  {
   "cell_type": "code",
   "execution_count": 21,
   "metadata": {},
   "outputs": [],
   "source": [
    "p.children=[c]"
   ]
  },
  {
   "cell_type": "code",
   "execution_count": 22,
   "metadata": {},
   "outputs": [
    {
     "name": "stdout",
     "output_type": "stream",
     "text": [
      "2019-11-29 16:03:25,540 INFO sqlalchemy.engine.base.Engine INSERT INTO parent DEFAULT VALUES\n",
      "2019-11-29 16:03:25,541 INFO sqlalchemy.engine.base.Engine ()\n",
      "2019-11-29 16:03:25,543 INFO sqlalchemy.engine.base.Engine INSERT INTO child (parent_id) VALUES (?)\n",
      "2019-11-29 16:03:25,544 INFO sqlalchemy.engine.base.Engine (1,)\n",
      "2019-11-29 16:03:25,545 INFO sqlalchemy.engine.base.Engine COMMIT\n"
     ]
    }
   ],
   "source": [
    "session.add(p)\n",
    "session.commit()"
   ]
  },
  {
   "cell_type": "code",
   "execution_count": 23,
   "metadata": {},
   "outputs": [
    {
     "data": {
      "text/plain": [
       "[<__main__.Child at 0x62edb90>]"
      ]
     },
     "execution_count": 23,
     "metadata": {},
     "output_type": "execute_result"
    }
   ],
   "source": [
    "p.children"
   ]
  },
  {
   "cell_type": "code",
   "execution_count": 24,
   "metadata": {},
   "outputs": [
    {
     "data": {
      "text/plain": [
       "<__main__.Parent at 0x62ed3f0>"
      ]
     },
     "execution_count": 24,
     "metadata": {},
     "output_type": "execute_result"
    }
   ],
   "source": [
    "c.parent"
   ]
  },
  {
   "cell_type": "code",
   "execution_count": 25,
   "metadata": {},
   "outputs": [
    {
     "name": "stdout",
     "output_type": "stream",
     "text": [
      "2019-11-29 16:17:28,687 INFO sqlalchemy.engine.base.Engine PRAGMA main.table_info(\"users\")\n",
      "2019-11-29 16:17:28,688 INFO sqlalchemy.engine.base.Engine ()\n",
      "2019-11-29 16:17:28,689 INFO sqlalchemy.engine.base.Engine PRAGMA main.table_info(\"parent\")\n",
      "2019-11-29 16:17:28,690 INFO sqlalchemy.engine.base.Engine ()\n",
      "2019-11-29 16:17:28,691 INFO sqlalchemy.engine.base.Engine PRAGMA main.table_info(\"child\")\n",
      "2019-11-29 16:17:28,692 INFO sqlalchemy.engine.base.Engine ()\n",
      "2019-11-29 16:17:28,693 INFO sqlalchemy.engine.base.Engine PRAGMA main.table_info(\"ogrenciler\")\n",
      "2019-11-29 16:17:28,693 INFO sqlalchemy.engine.base.Engine ()\n",
      "2019-11-29 16:17:28,694 INFO sqlalchemy.engine.base.Engine PRAGMA temp.table_info(\"ogrenciler\")\n",
      "2019-11-29 16:17:28,695 INFO sqlalchemy.engine.base.Engine ()\n",
      "2019-11-29 16:17:28,695 INFO sqlalchemy.engine.base.Engine PRAGMA main.table_info(\"gruplar\")\n",
      "2019-11-29 16:17:28,696 INFO sqlalchemy.engine.base.Engine ()\n",
      "2019-11-29 16:17:28,697 INFO sqlalchemy.engine.base.Engine PRAGMA temp.table_info(\"gruplar\")\n",
      "2019-11-29 16:17:28,697 INFO sqlalchemy.engine.base.Engine ()\n",
      "2019-11-29 16:17:28,699 INFO sqlalchemy.engine.base.Engine \n",
      "CREATE TABLE gruplar (\n",
      "\tid INTEGER NOT NULL, \n",
      "\tkonu VARCHAR, \n",
      "\tcreated DATETIME, \n",
      "\tPRIMARY KEY (id)\n",
      ")\n",
      "\n",
      "\n",
      "2019-11-29 16:17:28,699 INFO sqlalchemy.engine.base.Engine ()\n",
      "2019-11-29 16:17:28,779 INFO sqlalchemy.engine.base.Engine COMMIT\n",
      "2019-11-29 16:17:28,780 INFO sqlalchemy.engine.base.Engine \n",
      "CREATE TABLE ogrenciler (\n",
      "\tno INTEGER NOT NULL, \n",
      "\tadi VARCHAR, \n",
      "\tsoyadi VARCHAR, \n",
      "\tgrup_id INTEGER, \n",
      "\tPRIMARY KEY (no), \n",
      "\tFOREIGN KEY(grup_id) REFERENCES gruplar (id)\n",
      ")\n",
      "\n",
      "\n",
      "2019-11-29 16:17:28,781 INFO sqlalchemy.engine.base.Engine ()\n",
      "2019-11-29 16:17:28,817 INFO sqlalchemy.engine.base.Engine COMMIT\n"
     ]
    }
   ],
   "source": [
    "from sqlalchemy import DateTime\n",
    "import datetime\n",
    "#Ogrenci sınıfı tanımı\n",
    "class Ogrenci(Base):\n",
    "    __tablename__ = \"ogrenciler\"\n",
    "    \n",
    "    no = Column(Integer, primary_key=True)\n",
    "    adi = Column(String)\n",
    "    soyadi = Column(String)\n",
    "    grup_id = Column(Integer, ForeignKey(\"gruplar.id\"))\n",
    "    grup = relationship(\"Grup\", back_populates='ogrenciler')\n",
    "    def __repr__(self):\n",
    "        return f\"<Ogrenci({self.no} - {self.adi} {self.soyadi})>\"\n",
    "\n",
    "class Grup(Base):\n",
    "    __tablename__ = \"gruplar\"\n",
    "    \n",
    "    id = Column(Integer, primary_key=True)\n",
    "    konu = Column(String)\n",
    "    created = Column(DateTime, default=datetime.datetime.utcnow)\n",
    "    ogrenciler = relationship(\"Ogrenci\", back_populates='grup')\n",
    "\n",
    "Base.metadata.create_all(engine)"
   ]
  },
  {
   "cell_type": "code",
   "execution_count": 27,
   "metadata": {},
   "outputs": [
    {
     "name": "stdout",
     "output_type": "stream",
     "text": [
      "2019-11-29 16:24:22,314 INFO sqlalchemy.engine.base.Engine INSERT INTO gruplar (konu, created) VALUES (?, ?)\n",
      "2019-11-29 16:24:22,315 INFO sqlalchemy.engine.base.Engine ('Webscrap ile içerik çekme: Premier Lig', '2019-11-29 13:24:22.314788')\n",
      "2019-11-29 16:24:22,317 INFO sqlalchemy.engine.base.Engine INSERT INTO gruplar (konu, created) VALUES (?, ?)\n",
      "2019-11-29 16:24:22,318 INFO sqlalchemy.engine.base.Engine ('OpenCV Görüntü İşleme', '2019-11-29 13:24:22.317788')\n",
      "2019-11-29 16:24:22,319 INFO sqlalchemy.engine.base.Engine INSERT INTO gruplar (konu, created) VALUES (?, ?)\n",
      "2019-11-29 16:24:22,319 INFO sqlalchemy.engine.base.Engine ('Pygame 2D Oyun', '2019-11-29 13:24:22.319788')\n",
      "2019-11-29 16:24:22,321 INFO sqlalchemy.engine.base.Engine INSERT INTO ogrenciler (no, adi, soyadi, grup_id) VALUES (?, ?, ?, ?)\n",
      "2019-11-29 16:24:22,322 INFO sqlalchemy.engine.base.Engine ((15253003, 'Cemal Furkan', 'Artan', 1), (15253072, 'Mustafa', 'Zeycan', 1), (15253016, 'Eda', 'Çeltük', 2), (14253006, 'Merve', 'Arslan', 2), (16253055, 'Emre', 'Özdemir', 3))\n",
      "2019-11-29 16:24:22,323 INFO sqlalchemy.engine.base.Engine COMMIT\n"
     ]
    }
   ],
   "source": [
    "gruplar=[]\n",
    "gruplar.append(Grup(konu=\"Webscrap ile içerik çekme: Premier Lig\"))\n",
    "gruplar.append(Grup(konu=\"OpenCV Görüntü İşleme\"))\n",
    "gruplar.append(Grup(konu=\"Pygame 2D Oyun\"))\n",
    "gruplar[0].ogrenciler = [Ogrenci(no=15253003, adi=\"Cemal Furkan\", soyadi=\"Artan\"), Ogrenci(no=15253072,adi=\"Mustafa\", soyadi=\"Zeycan\")]\n",
    "gruplar[1].ogrenciler = [Ogrenci(no=15253016, adi=\"Eda\", soyadi=\"Çeltük\"), Ogrenci(no=14253006,adi=\"Merve\", soyadi=\"Arslan\")]\n",
    "gruplar[2].ogrenciler = [Ogrenci(no=16253055, adi=\"Emre\", soyadi=\"Özdemir\")]\n",
    "session.add_all(gruplar)\n",
    "session.commit()"
   ]
  },
  {
   "cell_type": "code",
   "execution_count": null,
   "metadata": {},
   "outputs": [],
   "source": []
  }
 ],
 "metadata": {
  "kernelspec": {
   "display_name": "Python 3",
   "language": "python",
   "name": "python3"
  },
  "language_info": {
   "codemirror_mode": {
    "name": "ipython",
    "version": 3
   },
   "file_extension": ".py",
   "mimetype": "text/x-python",
   "name": "python",
   "nbconvert_exporter": "python",
   "pygments_lexer": "ipython3",
   "version": "3.7.2"
  }
 },
 "nbformat": 4,
 "nbformat_minor": 2
}
